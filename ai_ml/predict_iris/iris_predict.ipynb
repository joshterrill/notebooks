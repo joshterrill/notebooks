{
 "cells": [
  {
   "cell_type": "code",
   "execution_count": 8,
   "metadata": {},
   "outputs": [
    {
     "name": "stdout",
     "output_type": "stream",
     "text": [
      "[[0.9999795  0.00002052 0.        ]\n",
      " [0.00007472 0.9998795  0.00004582]\n",
      " [0.00000428 0.00297965 0.9970161 ]]\n",
      "[0 1 2]\n"
     ]
    }
   ],
   "source": [
    "from keras.models import load_model\n",
    "from keras.layers import Dense\n",
    "from keras.utils.np_utils import to_categorical\n",
    "\n",
    "import numpy as np\n",
    "import matplotlib.pyplot as plt\n",
    "\n",
    "np.set_printoptions(suppress=True)\n",
    "\n",
    "# Classifications:\n",
    "# 0 = Iris-setosa\n",
    "# 1 = Iris-versicolor\n",
    "# 2 = Iris-virginica\n",
    "\n",
    "model = load_model(\"./iris_network.h5\")\n",
    "\n",
    "predict_data = np.array([\n",
    "  [4.9, 3.0, 1.5, 0.2], #0 Iris-setosa\n",
    "  [5.7, 3.0, 4.5, 1.2], #1 Iris-versicolor\n",
    "  [7.2, 3.2, 6.4, 2.3]  #2 Iris-virginica\n",
    "])\n",
    "\n",
    "\n",
    "output = model.predict(predict_data)\n",
    "print(output)\n",
    "\n",
    "output = model.predict_classes(predict_data)\n",
    "print(output)"
   ]
  },
  {
   "cell_type": "code",
   "execution_count": null,
   "metadata": {},
   "outputs": [],
   "source": []
  }
 ],
 "metadata": {
  "kernelspec": {
   "display_name": "Python 3",
   "language": "python",
   "name": "python3"
  },
  "language_info": {
   "codemirror_mode": {
    "name": "ipython",
    "version": 3
   },
   "file_extension": ".py",
   "mimetype": "text/x-python",
   "name": "python",
   "nbconvert_exporter": "python",
   "pygments_lexer": "ipython3",
   "version": "3.6.5"
  }
 },
 "nbformat": 4,
 "nbformat_minor": 2
}
